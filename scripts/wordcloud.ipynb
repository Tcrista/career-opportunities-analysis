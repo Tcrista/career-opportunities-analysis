{
 "cells": [
  {
   "cell_type": "code",
   "execution_count": 18,
   "metadata": {},
   "outputs": [],
   "source": [
    "import pandas as pd\n",
    "import numpy as np\n",
    "from sklearn.feature_extraction.text import CountVectorizer\n",
    "import matplotlib.pyplot as plt\n",
    "import matplotlib.pyplot as plt\n",
    "from sklearn.feature_extraction import text "
   ]
  },
  {
   "cell_type": "code",
   "execution_count": 205,
   "metadata": {},
   "outputs": [],
   "source": [
    "def return_tokens_and_freq(path,num_of_token_min,num_of_token_max,number_of_output,my_additional_stop_word_list):\n",
    "    df=pd.read_csv(path)\n",
    "    df.drop_duplicates( subset=None, keep='first', inplace=True)\n",
    "    df=df.dropna(subset=['detail'])\n",
    "    detail_list=[i for i in df.detail]\n",
    "    cv = CountVectorizer(lowercase=True,\n",
    "                     min_df=1,\n",
    "                     max_df=1.0,\n",
    "                    # token_pattern='\\\\b\\\\S\\\\S+\\\\b',\n",
    "                     ngram_range=(num_of_token_min,num_of_token_max),\n",
    "                     stop_words=text.ENGLISH_STOP_WORDS.union(my_additional_stop_word_list))\n",
    "    X = cv.fit_transform(df[\"detail\"].values.astype('U'))\n",
    "    token_names = cv.get_feature_names()\n",
    "    result=pd.DataFrame(X.todense())\n",
    "    rank=result.sum(axis = 0)\n",
    "    return ([(token_names[i],rank[i]) for i in np.argsort(rank)[::-1][:number_of_output]],token_names)"
   ]
  },
  {
   "cell_type": "markdown",
   "metadata": {},
   "source": [
    "## Overall function"
   ]
  },
  {
   "cell_type": "code",
   "execution_count": 185,
   "metadata": {},
   "outputs": [],
   "source": [
    "def create_a_token_list(path,my_stop_word_list):\n",
    "    num_of_token_min=1\n",
    "    num_of_token_max=1\n",
    "    number_of_output=200\n",
    "    my_additional_stop_word_list=frozenset(my_stop_word_list)\n",
    "    H_1,tn_1=return_tokens_and_freq(path,num_of_token_min,num_of_token_max,number_of_output,my_additional_stop_word_list)\n",
    "    num_of_token_min=2\n",
    "    num_of_token_max=2\n",
    "    number_of_output=200\n",
    "    my_additional_stop_word_list=frozenset(my_stop_word_list)\n",
    "    H_2,tn_2=return_tokens_and_freq(path,num_of_token_min,num_of_token_max,number_of_output,my_additional_stop_word_list)\n",
    "    H_2=[(i,int(j*(1.1*H_1[0][1]//H_2[0][1]))) for (i,j) in H_2]\n",
    "    H=H_1+H_2\n",
    "    import operator\n",
    "    H.sort(key = operator.itemgetter(1), reverse = True)\n",
    "    return H       \n",
    "    "
   ]
  },
  {
   "cell_type": "code",
   "execution_count": 173,
   "metadata": {},
   "outputs": [],
   "source": [
    "def creare_word_cloud(H): \n",
    "    import matplotlib.pyplot as plt\n",
    "    from wordcloud import WordCloud\n",
    "    dataframe=pd.DataFrame(H,columns =['word',\"freq\"])\n",
    "    d={i:j for (i,j) in H}\n",
    "    wordcloud = WordCloud(background_color=\"white\")\n",
    "    wordcloud.generate_from_frequencies(d)\n",
    "    plt.figure()\n",
    "    plt.imshow(wordcloud, interpolation=\"bilinear\")\n",
    "    plt.axis(\"off\")\n",
    "    plt.show()"
   ]
  },
  {
   "cell_type": "code",
   "execution_count": 174,
   "metadata": {},
   "outputs": [],
   "source": [
    "def read_into_csv(my_list,job_title):\n",
    "    \n",
    "    df=pd.DataFrame(columns=[\"word\",\"freq\"],data=my_list)\n",
    "    df.freq=df.freq//100\n",
    "    file_name=job_title+\"_word_freq.csv\"\n",
    "    df.to_csv(file_name,encoding='gbk')"
   ]
  },
  {
   "cell_type": "code",
   "execution_count": 247,
   "metadata": {},
   "outputs": [],
   "source": [
    "second_stop_word=[\"data\",\"science\",\"learning\",\"opportunity employer\",\"analytics\",\"years\",\"gender identity\",\"race color\",\"color religion\",\"using\",\"including\",\"employment regard\",\"required\",\"receive consideration\",\"company\",\"related\",\"marital status\",\"end end\",\"data data\",\"teams\",\"qualifications\",\"status\",\"science data\",\"build\",\"science machine\",\"understanding\",\"000 00\",\"true\",\"ll\",\"highly\",\"data analyst\",\"national origin\",\"equal employment\",\"qualified applicants\",\"point person\",\"regard race\",\"information\",\"minimum years\",\"trueone locationtruebenefits\",\"pos data\",\"systems\",\"sexual orientation\",\"strong\",\"religion sex\",\"working\",\"preferred\",\"provide\",\"degree\",\"position\",\"high\",\"based\",\"insurancedental insurancevision\",\"veteran status\",\"time\",\"develop\",\"provide\",\"truejob type\",\"locationtruebenefits truehealth\"]"
   ]
  },
  {
   "cell_type": "markdown",
   "metadata": {},
   "source": [
    "### Data Scientist"
   ]
  },
  {
   "cell_type": "code",
   "execution_count": 206,
   "metadata": {},
   "outputs": [],
   "source": [
    "a=create_a_token_list(\"&l=Anywhere&as_ttl=data+scientist&as_cmp=&jt.csv\",[\"years\",\"scientist\",\"financial\", \"business\",\"experience\",\"work\",\"skills\",\"ability\",\"job\"])"
   ]
  },
  {
   "cell_type": "code",
   "execution_count": 209,
   "metadata": {},
   "outputs": [],
   "source": [
    "a=[(i,j) for (i,j) in a if i not in second_stop_word]"
   ]
  },
  {
   "cell_type": "code",
   "execution_count": 211,
   "metadata": {},
   "outputs": [],
   "source": [
    "read_into_csv(a,\"ds\")"
   ]
  },
  {
   "cell_type": "markdown",
   "metadata": {},
   "source": [
    "### data analyst"
   ]
  },
  {
   "cell_type": "code",
   "execution_count": 224,
   "metadata": {},
   "outputs": [],
   "source": [
    "b=create_a_token_list(\"&l=Anywhere&as_ttl=data+analyst&as_cmp=&jt.csv\",[\"years\",\"financial\", \"business\",\"experience\",\"work\",\"skills\",\"ability\",\"job\"])"
   ]
  },
  {
   "cell_type": "code",
   "execution_count": 225,
   "metadata": {},
   "outputs": [],
   "source": [
    "b=[(i,j) for (i,j) in b if i not in second_stop_word]"
   ]
  },
  {
   "cell_type": "code",
   "execution_count": 227,
   "metadata": {},
   "outputs": [],
   "source": [
    "read_into_csv(b,\"da\")"
   ]
  },
  {
   "cell_type": "markdown",
   "metadata": {},
   "source": [
    "### Business analyst"
   ]
  },
  {
   "cell_type": "code",
   "execution_count": 238,
   "metadata": {},
   "outputs": [],
   "source": [
    "c=create_a_token_list(\"&l=Anywhere&as_ttl=business+analyst&as_cmp=&jt.csv\",[\"years\",\"financial\", \"business\",\"experience\",\"work\",\"skills\",\"ability\",\"job\"])"
   ]
  },
  {
   "cell_type": "code",
   "execution_count": 239,
   "metadata": {},
   "outputs": [],
   "source": [
    "c=[(i,j) for (i,j) in c if i not in second_stop_word]"
   ]
  },
  {
   "cell_type": "code",
   "execution_count": 241,
   "metadata": {},
   "outputs": [],
   "source": [
    "read_into_csv(c,\"ba\")"
   ]
  },
  {
   "cell_type": "markdown",
   "metadata": {},
   "source": [
    "### financial analyst"
   ]
  },
  {
   "cell_type": "code",
   "execution_count": 248,
   "metadata": {},
   "outputs": [],
   "source": [
    "d=create_a_token_list(\"&l=Anywhere&as_ttl=financial+analyst&as_cmp=&jt.csv\",[\"years\",\"financial\", \"business\",\"experience\",\"work\",\"skills\",\"ability\",\"job\"])"
   ]
  },
  {
   "cell_type": "code",
   "execution_count": 249,
   "metadata": {},
   "outputs": [],
   "source": [
    "d=[(i,j) for (i,j) in d if i not in second_stop_word]"
   ]
  },
  {
   "cell_type": "code",
   "execution_count": 251,
   "metadata": {},
   "outputs": [],
   "source": [
    "read_into_csv(d,\"fa\")"
   ]
  }
 ],
 "metadata": {
  "kernelspec": {
   "display_name": "Python 3",
   "language": "python",
   "name": "python3"
  },
  "language_info": {
   "codemirror_mode": {
    "name": "ipython",
    "version": 3
   },
   "file_extension": ".py",
   "mimetype": "text/x-python",
   "name": "python",
   "nbconvert_exporter": "python",
   "pygments_lexer": "ipython3",
   "version": "3.7.3"
  }
 },
 "nbformat": 4,
 "nbformat_minor": 2
}
